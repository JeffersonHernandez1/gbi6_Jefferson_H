{
 "cells": [
  {
   "cell_type": "markdown",
   "id": "95a5a389",
   "metadata": {},
   "source": [
    "\n",
    "<img src=\"https://www.ikiam.edu.ec/img/logo-ikiam-grey.png\" width=300 height=250 />\n",
    "\n",
    "\n",
    "# INGENIERÍA EN BIOTECNOLOGÍA\n",
    "# GBI6 - BIOINFORMÁTICA\n",
    "\n",
    "\n",
    "En la mayor parte de los textos actuales se representa al dogma central de la biología molecular con los \n",
    "procesos generales de replicación, transcripción y traducción (Figura 1.4). Así, contemplan: que la información del \n",
    "DNA sirve de molde para replicarse a sí misma (replicación), para transferir la información hacia la síntesis del \n",
    "RNA (transcripción) y de esta molécula se transfiere la información que determina la secuencia de los aminoácidos \n",
    "de las proteínas (traducción). Además, incluye la acción de la transcriptasa inversa, que lleva a cabo la síntesis de ADN a partir del ARN, conocido como transcripción inversa (Claros, 2003).\n",
    "\n",
    "Los marcos de lectura son formas posibles en que se puede dividir una secuencia de nucleótidos tanto de ADN o ARN para dar lugar a un grupo de tripletes consecutivos no solapados, los cuales, cada uno de dichos tripletes resultan equivalentes a un aminoácido o señal de terminación durante la traducción, denominado codón. Cada molécula de ácido nucleico de cadena simple posee un extremo fosfato, llamado extremo 5' y un extremo hidroxilo, llamado extremo 3'. Dichos extremos definen la dirección \n",
    "5' → 3'. En un ácido nucleico de doble cadena, existen también tres marcos de lectura adicionales correspondientes a la cadena complementaria, pero en sentido antiparalelo, debido a que las dos cadenas de un ácido nucleico de doble cadena son antiparalelas, la dirección 5'→3' de la segunda cadena corresponde a la dirección 3'→5' de la primera cadena (Tanodi, 2000).\n",
    "\n",
    "\n",
    "\n",
    "Claros, G. (2003). Aproximación histórica a la biología molecular a través de sus protagonistas, los conceptos y la terminología fundamental. *Panace*, 4(12), 168. \n",
    "\n",
    "Tanodi, B. (2000). Documentos históricos. Normas de transcripción y publicación. *Cuadernos de Historia, Serie Economía y Sociedad*, (3), 259-270.\n",
    "\n",
    "\n",
    "\n",
    "\n",
    "\n",
    "\n",
    "\n",
    "\n",
    "<img src=\"https://th.bing.com/th/id/R.d42757d7ebd857ec9cd26530104dc167?rik=bw8OUDKw1FJChA&riu=http%3a%2f%2fb.se-todo.com%2fpars_docs%2frefs%2f12%2f11284%2f11284_html_m2688651f.jpg&ehk=2Z%2bZbOvPsn8wGZutJUQECxXtPnHi60smT1Kf3SzE38c%3d&risl=&pid=ImgRaw&r=0\" width=600 height=400 />"
   ]
  },
  {
   "cell_type": "markdown",
   "id": "ee18e55b",
   "metadata": {},
   "source": [
    "Se buscará los codones de inicio y de terminación en la secuencia dada, el codón de inicio es ```TAC``` y los codones de terminación son ```ATT```, ```ATC```, ```ACT```."
   ]
  },
  {
   "cell_type": "code",
   "execution_count": 4,
   "id": "c97d49a8",
   "metadata": {},
   "outputs": [
    {
     "data": {
      "text/plain": [
       "'AAGGACCNGACATCCATCGCTGATGTCAATCCCCCGTGGATCGTAAGTCCGGGAGTAGGAGGAGGAAGGGTCGTCCCACAGTGCGAAGAGGCTTCTGACCTACTGACGGTACCTCCTCAGTGTCAGCCTATAGTCGGAGCTCGAGGGAGACTCGGTCCTCTGTAAAAGTCCGAATACCTTTGATGAAGGAGGTCTTCTATAGGACGGTAG'"
      ]
     },
     "execution_count": 4,
     "metadata": {},
     "output_type": "execute_result"
    }
   ],
   "source": [
    "seq = \"AAGGACCNGACATCCATCGCTGATGTCAATCCCCCGTGGATCGTAAGTCCGGGAGTAGGAGGAGGAAGGGTCGTCCCACAGTGCGAAGAGGCTTCTGACCTACTGACGGTACCTCCTCAGTGTCAGCCTATAGTCGGAGCTCGAGGGAGACTCGGTCCTCTGTAAAAGTCCGAATACCTTTGATGAAGGAGGTCTTCTATAGGACGGTAG\"\n",
    "seq"
   ]
  },
  {
   "cell_type": "markdown",
   "id": "aba40757",
   "metadata": {},
   "source": [
    "Porcentaje de contenido de nuclétidos GC."
   ]
  },
  {
   "cell_type": "code",
   "execution_count": 5,
   "id": "7d5dd2b1",
   "metadata": {},
   "outputs": [
    {
     "data": {
      "text/plain": [
       "54.285714285714285"
      ]
     },
     "execution_count": 5,
     "metadata": {},
     "output_type": "execute_result"
    }
   ],
   "source": [
    "NT_c = seq.count(\"G\")\n",
    "NT_g = seq.count(\"C\")\n",
    "len_seq = len(seq)\n",
    "\n",
    "percent_GC = 100*(NT_c + NT_g) / len_seq\n",
    "\n",
    "percent_GC"
   ]
  },
  {
   "cell_type": "markdown",
   "id": "90bd5a19",
   "metadata": {},
   "source": [
    "Se busca la secuencia complementaria."
   ]
  },
  {
   "cell_type": "code",
   "execution_count": 7,
   "id": "28d9e8ba",
   "metadata": {},
   "outputs": [
    {
     "name": "stdout",
     "output_type": "stream",
     "text": [
      "seq: AAGGACCNGACATCCATCGCTGATGTCAATCCCCCGTGGATCGTAAGTCCGGGAGTAGGAGGAGGAAGGGTCGTCCCACAGTGCGAAGAGGCTTCTGACCTACTGACGGTACCTCCTCAGTGTCAGCCTATAGTCGGAGCTCGAGGGAGACTCGGTCCTCTGTAAAAGTCCGAATACCTTTGATGAAGGAGGTCTTCTATAGGACGGTAG\n",
      "seq_complementaria: TTCCTGGNCTGTAGGTAGCGACTACAGTTAGGGGGCACCTAGCATTCAGGCCCTCATCCTCCTCCTTCCCAGCAGGGTGTCACGCTTCTCCGAAGACTGGATGACTGCCATGGAGGAGTCACAGTCGGATATCAGCCTCGAGCTCCCTCTGAGCCAGGAGACATTTTCAGGCTTATGGAAACTACTTCCTCCAGAAGATATCCTGCCATC\n"
     ]
    }
   ],
   "source": [
    "seq_a = seq.replace(\"A\", \"t\")\n",
    "seq_t = seq_a.replace(\"T\", \"a\")\n",
    "seq_g = seq_t.replace(\"G\", \"c\")\n",
    "seq_c = seq_g.replace(\"C\", \"g\")\n",
    "seq_complementaria = seq_c.upper()\n",
    "seq_complementaria\n",
    "print(\"seq:\", seq)\n",
    "print(\"seq_complementaria:\", seq_complementaria)"
   ]
  },
  {
   "cell_type": "markdown",
   "id": "34f7de7c",
   "metadata": {},
   "source": [
    "Se encuentra el reverso complementario."
   ]
  },
  {
   "cell_type": "code",
   "execution_count": 8,
   "id": "daf58bcf",
   "metadata": {},
   "outputs": [
    {
     "name": "stdout",
     "output_type": "stream",
     "text": [
      "seq: AAGGACCNGACATCCATCGCTGATGTCAATCCCCCGTGGATCGTAAGTCCGGGAGTAGGAGGAGGAAGGGTCGTCCCACAGTGCGAAGAGGCTTCTGACCTACTGACGGTACCTCCTCAGTGTCAGCCTATAGTCGGAGCTCGAGGGAGACTCGGTCCTCTGTAAAAGTCCGAATACCTTTGATGAAGGAGGTCTTCTATAGGACGGTAG\n",
      "seq_complementaria: TTCCTGGNCTGTAGGTAGCGACTACAGTTAGGGGGCACCTAGCATTCAGGCCCTCATCCTCCTCCTTCCCAGCAGGGTGTCACGCTTCTCCGAAGACTGGATGACTGCCATGGAGGAGTCACAGTCGGATATCAGCCTCGAGCTCCCTCTGAGCCAGGAGACATTTTCAGGCTTATGGAAACTACTTCCTCCAGAAGATATCCTGCCATC\n",
      "seq_complementaria_reverse: CTACCGTCCTATAGAAGACCTCCTTCATCAAAGGTATTCGGACTTTTACAGAGGACCGAGTCTCCCTCGAGCTCCGACTATAGGCTGACACTGAGGAGGTACCGTCAGTAGGTCAGAAGCCTCTTCGCACTGTGGGACGACCCTTCCTCCTCCTACTCCCGGACTTACGATCCACGGGGGATTGACATCAGCGATGGATGTCNGGTCCTT\n"
     ]
    }
   ],
   "source": [
    "seq_complementaria_reverse = seq_complementaria[::-1]\n",
    "print(\"seq:\", seq)\n",
    "print(\"seq_complementaria:\", seq_complementaria)\n",
    "print(\"seq_complementaria_reverse:\", seq_complementaria_reverse)"
   ]
  },
  {
   "cell_type": "markdown",
   "id": "efff18f9",
   "metadata": {},
   "source": [
    "Se encuentra el(los) sitio(s) de inicio y sitios de pare de transcripción forward."
   ]
  },
  {
   "cell_type": "code",
   "execution_count": 9,
   "id": "97921904",
   "metadata": {},
   "outputs": [
    {
     "name": "stdout",
     "output_type": "stream",
     "text": [
      "start: 22\n",
      "end1: 43\n",
      "end2: 55\n",
      "end3: 20\n"
     ]
    }
   ],
   "source": [
    "start = seq_complementaria.find(\"TAC\") #CODON DE INICIO\n",
    "end1 = seq_complementaria.find(\"ATT\") #CODON FINAL\n",
    "end2 = seq_complementaria.find(\"ATC\") #CODON FINAL\n",
    "end3 = seq_complementaria.find(\"ACT\") #CODON FINAL\n",
    "\n",
    "print(\"start:\", start)\n",
    "print(\"end1:\", end1)\n",
    "print(\"end2:\", end2)\n",
    "print(\"end3:\", end3)"
   ]
  },
  {
   "cell_type": "markdown",
   "id": "d922e755",
   "metadata": {},
   "source": [
    "mRNA de la transcripción forward del codón de inicio (start) hasta el codón de pare (end1)."
   ]
  },
  {
   "cell_type": "code",
   "execution_count": 10,
   "id": "18ba2aab",
   "metadata": {},
   "outputs": [
    {
     "data": {
      "text/plain": [
       "'TACAGTTAGGGGGCACCTAGCATT'"
      ]
     },
     "execution_count": 10,
     "metadata": {},
     "output_type": "execute_result"
    }
   ],
   "source": [
    "mRNA_seqc1 = seq_complementaria[start:end1+3]\n",
    "mRNA_seqc1"
   ]
  },
  {
   "cell_type": "markdown",
   "id": "5f9eecf0",
   "metadata": {},
   "source": [
    "Cantidad de nucleótidos del mRNA_seqc1. En la secuencia mRNA_seqc1 el codón de inicio es ```TAC```, y el codón final es ```ATT```."
   ]
  },
  {
   "cell_type": "code",
   "execution_count": 11,
   "id": "f8dd7d82",
   "metadata": {},
   "outputs": [
    {
     "data": {
      "text/plain": [
       "24"
      ]
     },
     "execution_count": 11,
     "metadata": {},
     "output_type": "execute_result"
    }
   ],
   "source": [
    "len(mRNA_seqc1)"
   ]
  },
  {
   "cell_type": "markdown",
   "id": "c5b46c03",
   "metadata": {},
   "source": [
    "mRNA de la transcripción forward del codón de inicio (start) hasta el codón de pare (end2)."
   ]
  },
  {
   "cell_type": "code",
   "execution_count": 12,
   "id": "2521f079",
   "metadata": {},
   "outputs": [
    {
     "data": {
      "text/plain": [
       "'TACAGTTAGGGGGCACCTAGCATTCAGGCCCTCATC'"
      ]
     },
     "execution_count": 12,
     "metadata": {},
     "output_type": "execute_result"
    }
   ],
   "source": [
    "mRNA_seqc2 = seq_complementaria[start:end2+3]\n",
    "mRNA_seqc2"
   ]
  },
  {
   "cell_type": "markdown",
   "id": "ed3cf310",
   "metadata": {},
   "source": [
    "Cantidad de nucleótidos del mRNA_seqc2. En la secuencia mRNA_seqc2 el codón de inicio es ```TAC```, y el codón final es ```ATC```."
   ]
  },
  {
   "cell_type": "code",
   "execution_count": 13,
   "id": "1f88840a",
   "metadata": {},
   "outputs": [
    {
     "data": {
      "text/plain": [
       "36"
      ]
     },
     "execution_count": 13,
     "metadata": {},
     "output_type": "execute_result"
    }
   ],
   "source": [
    "len(mRNA_seqc2)"
   ]
  },
  {
   "cell_type": "markdown",
   "id": "f0f1e444",
   "metadata": {},
   "source": [
    "Se encuentra el(los) sitio(s) de inicio y sitios de pare de transcripción forward."
   ]
  },
  {
   "cell_type": "code",
   "execution_count": 14,
   "id": "e07ffad3",
   "metadata": {},
   "outputs": [
    {
     "name": "stdout",
     "output_type": "stream",
     "text": [
      "start: 1\n",
      "end1: 35\n",
      "end2: 26\n",
      "end3: 41\n"
     ]
    }
   ],
   "source": [
    "start = seq_complementaria_reverse.find(\"TAC\") #CODON DE INICIO\n",
    "end1 = seq_complementaria_reverse.find(\"ATT\") #CODON FINAL\n",
    "end2 = seq_complementaria_reverse.find(\"ATC\") #CODON FINAL\n",
    "end3 = seq_complementaria_reverse.find(\"ACT\") #CODON FINAL\n",
    "\n",
    "print(\"start:\", start)\n",
    "print(\"end1:\", end1)\n",
    "print(\"end2:\", end2)\n",
    "print(\"end3:\", end3)"
   ]
  },
  {
   "cell_type": "markdown",
   "id": "a5221d71",
   "metadata": {},
   "source": [
    "mRNA de la secuencia reverso complemento del codón de inicio (start) hasta el codón de pare (end1)."
   ]
  },
  {
   "cell_type": "code",
   "execution_count": 15,
   "id": "cab50134",
   "metadata": {},
   "outputs": [
    {
     "data": {
      "text/plain": [
       "'TACCGTCCTATAGAAGACCTCCTTCATCAAAGGTATT'"
      ]
     },
     "execution_count": 15,
     "metadata": {},
     "output_type": "execute_result"
    }
   ],
   "source": [
    "mRNA_seqcr1 = seq_complementaria_reverse[start:end1+3]\n",
    "mRNA_seqcr1"
   ]
  },
  {
   "cell_type": "markdown",
   "id": "4bf9ab14",
   "metadata": {},
   "source": [
    "Cantidad de nucleótidos del mRNA_seqcr1. En la secuencia mRNA_seqcr1 el codón de inicio es ```TAC```, y el codón final es ```ATT```. "
   ]
  },
  {
   "cell_type": "code",
   "execution_count": 16,
   "id": "ac482e50",
   "metadata": {},
   "outputs": [
    {
     "data": {
      "text/plain": [
       "37"
      ]
     },
     "execution_count": 16,
     "metadata": {},
     "output_type": "execute_result"
    }
   ],
   "source": [
    "len(mRNA_seqcr1)"
   ]
  },
  {
   "cell_type": "markdown",
   "id": "3d0e4653",
   "metadata": {},
   "source": [
    "mRNA de la secuencia reverso complemento del codón de inicio (start) hasta el codón de pare (end2)."
   ]
  },
  {
   "cell_type": "code",
   "execution_count": 17,
   "id": "d130cfd4",
   "metadata": {},
   "outputs": [
    {
     "data": {
      "text/plain": [
       "'TACCGTCCTATAGAAGACCTCCTTCATC'"
      ]
     },
     "execution_count": 17,
     "metadata": {},
     "output_type": "execute_result"
    }
   ],
   "source": [
    "mRNA_seqcr2 = seq_complementaria_reverse[start:end2+3]\n",
    "mRNA_seqcr2"
   ]
  },
  {
   "cell_type": "markdown",
   "id": "01d87b3e",
   "metadata": {},
   "source": [
    "Cantidad de nucleótidos del mRNA_seqcr2. En la secuencia mRNA_seqcr2 el codón de inicio es ```TAC```, y el codón final es ```ATC```."
   ]
  },
  {
   "cell_type": "code",
   "execution_count": 18,
   "id": "2bf3b5be",
   "metadata": {},
   "outputs": [
    {
     "data": {
      "text/plain": [
       "28"
      ]
     },
     "execution_count": 18,
     "metadata": {},
     "output_type": "execute_result"
    }
   ],
   "source": [
    "len(mRNA_seqcr2)"
   ]
  },
  {
   "cell_type": "markdown",
   "id": "3ff25461",
   "metadata": {},
   "source": [
    "mRNA de la secuencia reverso complemento del codón de inicio (start) hasta el codón de pare (end2)."
   ]
  },
  {
   "cell_type": "code",
   "execution_count": 19,
   "id": "c585e8c4",
   "metadata": {},
   "outputs": [
    {
     "data": {
      "text/plain": [
       "'TACCGTCCTATAGAAGACCTCCTTCATCAAAGGTATTCGGACT'"
      ]
     },
     "execution_count": 19,
     "metadata": {},
     "output_type": "execute_result"
    }
   ],
   "source": [
    "mRNA_seqcr3 = seq_complementaria_reverse[start:end3+3]\n",
    "mRNA_seqcr3"
   ]
  },
  {
   "cell_type": "markdown",
   "id": "3d36e2f6",
   "metadata": {},
   "source": [
    "Cantidad de nucleótidos del mRNA_seqcr3. En la secuencia mRNA_seqcr3 el codón de inicio es ```TAC```, y el codón final es ```ACT```."
   ]
  },
  {
   "cell_type": "code",
   "execution_count": 20,
   "id": "31336df6",
   "metadata": {},
   "outputs": [
    {
     "data": {
      "text/plain": [
       "43"
      ]
     },
     "execution_count": 20,
     "metadata": {},
     "output_type": "execute_result"
    }
   ],
   "source": [
    "len(mRNA_seqcr3)"
   ]
  },
  {
   "cell_type": "code",
   "execution_count": null,
   "id": "09536151",
   "metadata": {},
   "outputs": [],
   "source": []
  }
 ],
 "metadata": {
  "kernelspec": {
   "display_name": "Python 3 (ipykernel)",
   "language": "python",
   "name": "python3"
  },
  "language_info": {
   "codemirror_mode": {
    "name": "ipython",
    "version": 3
   },
   "file_extension": ".py",
   "mimetype": "text/x-python",
   "name": "python",
   "nbconvert_exporter": "python",
   "pygments_lexer": "ipython3",
   "version": "3.9.7"
  }
 },
 "nbformat": 4,
 "nbformat_minor": 5
}
